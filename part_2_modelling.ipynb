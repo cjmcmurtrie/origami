{
 "cells": [
  {
   "cell_type": "code",
   "execution_count": 1,
   "metadata": {},
   "outputs": [],
   "source": [
    "import warnings\n",
    "import numpy as np\n",
    "import pandas as pd\n",
    "from origami.forecast import construct_target\n",
    "from origami.preprocess import merged_syst_n2ex\n",
    "from origami.features import add_seasonal_features, normalise_feature_values, impute_missing\n",
    "warnings.filterwarnings('ignore')"
   ]
  },
  {
   "cell_type": "code",
   "execution_count": 57,
   "metadata": {},
   "outputs": [],
   "source": [
    "cleaned_data = merged_syst_n2ex(\n",
    "    syst_path='data/systems_prices.csv',\n",
    "    n2ex_path='data/n2ex_da_2018.csv'\n",
    ")"
   ]
  },
  {
   "cell_type": "code",
   "execution_count": 80,
   "metadata": {},
   "outputs": [
    {
     "data": {
      "text/plain": [
       "<AxesSubplot:>"
      ]
     },
     "execution_count": 80,
     "metadata": {},
     "output_type": "execute_result"
    },
    {
     "data": {
      "image/png": "[encoded data removed]",
      "text/plain": [
       "<Figure size 432x288 with 1 Axes>"
      ]
     },
     "metadata": {
      "needs_background": "light"
     },
     "output_type": "display_data"
    }
   ],
   "source": [
    "with_target = construct_target(\n",
    "    cleaned_data,\n",
    "    time_col='datetime',\n",
    "    price_col='sell_price',\n",
    "    horizon_periods=24,\n",
    "    positive_threshold=0.1,\n",
    "    negative_threshold=-0.1\n",
    ")\n",
    "cleaned_data['forecast'].hist()"
   ]
  },
  {
   "cell_type": "code",
   "execution_count": 65,
   "metadata": {},
   "outputs": [],
   "source": [
    "with_features, feature_names = add_seasonal_features(with_target, 'datetime')"
   ]
  },
  {
   "cell_type": "code",
   "execution_count": 66,
   "metadata": {},
   "outputs": [],
   "source": [
    "features = ['sell_price', 'net_imbalance_volume', 'price', 'hour', 'dayofweek', 'month']\n",
    "normalised = normalise_feature_values(with_features, features)\n",
    "dataset = impute_missing(normalised, features)"
   ]
  },
  {
   "cell_type": "code",
   "execution_count": 67,
   "metadata": {},
   "outputs": [
    {
     "data": {
      "text/html": [
       "<div>\n",
       "<style scoped>\n",
       "    .dataframe tbody tr th:only-of-type {\n",
       "        vertical-align: middle;\n",
       "    }\n",
       "\n",
       "    .dataframe tbody tr th {\n",
       "        vertical-align: top;\n",
       "    }\n",
       "\n",
       "    .dataframe thead th {\n",
       "        text-align: right;\n",
       "    }\n",
       "</style>\n",
       "<table border=\"1\" class=\"dataframe\">\n",
       "  <thead>\n",
       "    <tr style=\"text-align: right;\">\n",
       "      <th></th>\n",
       "      <th>datetime</th>\n",
       "      <th>sell_price</th>\n",
       "      <th>buy_price</th>\n",
       "      <th>net_imbalance_volume</th>\n",
       "      <th>price</th>\n",
       "      <th>forecast</th>\n",
       "      <th>date</th>\n",
       "      <th>hour</th>\n",
       "      <th>dayofweek</th>\n",
       "      <th>month</th>\n",
       "    </tr>\n",
       "  </thead>\n",
       "  <tbody>\n",
       "    <tr>\n",
       "      <th>0</th>\n",
       "      <td>2018-01-01 00:30:00</td>\n",
       "      <td>0.180649</td>\n",
       "      <td>55.94000</td>\n",
       "      <td>0.439344</td>\n",
       "      <td>0.000000</td>\n",
       "      <td>negative</td>\n",
       "      <td>2018-01-01</td>\n",
       "      <td>0.000000</td>\n",
       "      <td>0.0</td>\n",
       "      <td>0.0</td>\n",
       "    </tr>\n",
       "    <tr>\n",
       "      <th>1</th>\n",
       "      <td>2018-01-01 01:00:00</td>\n",
       "      <td>0.180649</td>\n",
       "      <td>55.94000</td>\n",
       "      <td>0.469024</td>\n",
       "      <td>0.208539</td>\n",
       "      <td>negative</td>\n",
       "      <td>2018-01-01</td>\n",
       "      <td>0.043478</td>\n",
       "      <td>0.0</td>\n",
       "      <td>0.0</td>\n",
       "    </tr>\n",
       "    <tr>\n",
       "      <th>2</th>\n",
       "      <td>2018-01-01 01:30:00</td>\n",
       "      <td>0.186789</td>\n",
       "      <td>62.94000</td>\n",
       "      <td>0.455782</td>\n",
       "      <td>0.208539</td>\n",
       "      <td>negative</td>\n",
       "      <td>2018-01-01</td>\n",
       "      <td>0.043478</td>\n",
       "      <td>0.0</td>\n",
       "      <td>0.0</td>\n",
       "    </tr>\n",
       "    <tr>\n",
       "      <th>3</th>\n",
       "      <td>2018-01-01 02:00:00</td>\n",
       "      <td>0.158772</td>\n",
       "      <td>31.00000</td>\n",
       "      <td>0.397458</td>\n",
       "      <td>0.249425</td>\n",
       "      <td>positive</td>\n",
       "      <td>2018-01-01</td>\n",
       "      <td>0.086957</td>\n",
       "      <td>0.0</td>\n",
       "      <td>0.0</td>\n",
       "    </tr>\n",
       "    <tr>\n",
       "      <th>4</th>\n",
       "      <td>2018-01-01 02:30:00</td>\n",
       "      <td>0.184926</td>\n",
       "      <td>60.81578</td>\n",
       "      <td>0.446756</td>\n",
       "      <td>0.249425</td>\n",
       "      <td>negative</td>\n",
       "      <td>2018-01-01</td>\n",
       "      <td>0.086957</td>\n",
       "      <td>0.0</td>\n",
       "      <td>0.0</td>\n",
       "    </tr>\n",
       "  </tbody>\n",
       "</table>\n",
       "</div>"
      ],
      "text/plain": [
       "             datetime  sell_price  buy_price  net_imbalance_volume     price  \\\n",
       "0 2018-01-01 00:30:00    0.180649   55.94000              0.439344  0.000000   \n",
       "1 2018-01-01 01:00:00    0.180649   55.94000              0.469024  0.208539   \n",
       "2 2018-01-01 01:30:00    0.186789   62.94000              0.455782  0.208539   \n",
       "3 2018-01-01 02:00:00    0.158772   31.00000              0.397458  0.249425   \n",
       "4 2018-01-01 02:30:00    0.184926   60.81578              0.446756  0.249425   \n",
       "\n",
       "   forecast        date      hour  dayofweek  month  \n",
       "0  negative  2018-01-01  0.000000        0.0    0.0  \n",
       "1  negative  2018-01-01  0.043478        0.0    0.0  \n",
       "2  negative  2018-01-01  0.043478        0.0    0.0  \n",
       "3  positive  2018-01-01  0.086957        0.0    0.0  \n",
       "4  negative  2018-01-01  0.086957        0.0    0.0  "
      ]
     },
     "execution_count": 67,
     "metadata": {},
     "output_type": "execute_result"
    }
   ],
   "source": [
    "dataset.head()"
   ]
  },
  {
   "cell_type": "code",
   "execution_count": 68,
   "metadata": {},
   "outputs": [],
   "source": [
    "from origami.learn import get_scores, get_model, data_split, run_evaluation"
   ]
  },
  {
   "cell_type": "code",
   "execution_count": 70,
   "metadata": {},
   "outputs": [
    {
     "name": "stdout",
     "output_type": "stream",
     "text": [
      "evaluating test period 2018-02-28 00:00:00\n",
      "evaluating test period 2018-03-31 00:00:00\n",
      "evaluating test period 2018-04-30 00:00:00\n",
      "evaluating test period 2018-05-31 00:00:00\n",
      "evaluating test period 2018-06-30 00:00:00\n",
      "evaluating test period 2018-07-31 00:00:00\n",
      "evaluating test period 2018-08-31 00:00:00\n",
      "evaluating test period 2018-09-30 00:00:00\n",
      "evaluating test period 2018-10-31 00:00:00\n",
      "evaluating test period 2018-11-30 00:00:00\n",
      "evaluating test period 2018-12-31 00:00:00\n"
     ]
    },
    {
     "data": {
      "text/html": [
       "<div>\n",
       "<style scoped>\n",
       "    .dataframe tbody tr th:only-of-type {\n",
       "        vertical-align: middle;\n",
       "    }\n",
       "\n",
       "    .dataframe tbody tr th {\n",
       "        vertical-align: top;\n",
       "    }\n",
       "\n",
       "    .dataframe thead th {\n",
       "        text-align: right;\n",
       "    }\n",
       "</style>\n",
       "<table border=\"1\" class=\"dataframe\">\n",
       "  <thead>\n",
       "    <tr style=\"text-align: right;\">\n",
       "      <th></th>\n",
       "      <th>eval_period</th>\n",
       "      <th>auc</th>\n",
       "      <th>precision</th>\n",
       "      <th>recall</th>\n",
       "      <th>threshold</th>\n",
       "    </tr>\n",
       "  </thead>\n",
       "  <tbody>\n",
       "    <tr>\n",
       "      <th>0</th>\n",
       "      <td>2018-02-28</td>\n",
       "      <td>0.743701</td>\n",
       "      <td>0.755</td>\n",
       "      <td>0.919</td>\n",
       "      <td>0.20</td>\n",
       "    </tr>\n",
       "    <tr>\n",
       "      <th>1</th>\n",
       "      <td>2018-03-31</td>\n",
       "      <td>0.769514</td>\n",
       "      <td>0.765</td>\n",
       "      <td>0.996</td>\n",
       "      <td>0.05</td>\n",
       "    </tr>\n",
       "    <tr>\n",
       "      <th>2</th>\n",
       "      <td>2018-04-30</td>\n",
       "      <td>0.697919</td>\n",
       "      <td>1.000</td>\n",
       "      <td>0.000</td>\n",
       "      <td>1.00</td>\n",
       "    </tr>\n",
       "    <tr>\n",
       "      <th>3</th>\n",
       "      <td>2018-05-31</td>\n",
       "      <td>0.692003</td>\n",
       "      <td>0.774</td>\n",
       "      <td>0.034</td>\n",
       "      <td>0.89</td>\n",
       "    </tr>\n",
       "    <tr>\n",
       "      <th>4</th>\n",
       "      <td>2018-06-30</td>\n",
       "      <td>0.713064</td>\n",
       "      <td>0.750</td>\n",
       "      <td>0.871</td>\n",
       "      <td>0.49</td>\n",
       "    </tr>\n",
       "    <tr>\n",
       "      <th>5</th>\n",
       "      <td>2018-07-31</td>\n",
       "      <td>0.722702</td>\n",
       "      <td>0.752</td>\n",
       "      <td>0.989</td>\n",
       "      <td>0.14</td>\n",
       "    </tr>\n",
       "    <tr>\n",
       "      <th>6</th>\n",
       "      <td>2018-08-31</td>\n",
       "      <td>0.805018</td>\n",
       "      <td>0.754</td>\n",
       "      <td>0.621</td>\n",
       "      <td>0.69</td>\n",
       "    </tr>\n",
       "    <tr>\n",
       "      <th>7</th>\n",
       "      <td>2018-09-30</td>\n",
       "      <td>0.714300</td>\n",
       "      <td>0.759</td>\n",
       "      <td>0.601</td>\n",
       "      <td>0.57</td>\n",
       "    </tr>\n",
       "    <tr>\n",
       "      <th>8</th>\n",
       "      <td>2018-10-31</td>\n",
       "      <td>0.727382</td>\n",
       "      <td>0.761</td>\n",
       "      <td>0.996</td>\n",
       "      <td>0.03</td>\n",
       "    </tr>\n",
       "    <tr>\n",
       "      <th>9</th>\n",
       "      <td>2018-11-30</td>\n",
       "      <td>0.718479</td>\n",
       "      <td>0.833</td>\n",
       "      <td>0.008</td>\n",
       "      <td>0.99</td>\n",
       "    </tr>\n",
       "    <tr>\n",
       "      <th>10</th>\n",
       "      <td>2018-12-31</td>\n",
       "      <td>0.643382</td>\n",
       "      <td>0.754</td>\n",
       "      <td>0.163</td>\n",
       "      <td>0.88</td>\n",
       "    </tr>\n",
       "  </tbody>\n",
       "</table>\n",
       "</div>"
      ],
      "text/plain": [
       "   eval_period       auc  precision  recall  threshold\n",
       "0   2018-02-28  0.743701      0.755   0.919       0.20\n",
       "1   2018-03-31  0.769514      0.765   0.996       0.05\n",
       "2   2018-04-30  0.697919      1.000   0.000       1.00\n",
       "3   2018-05-31  0.692003      0.774   0.034       0.89\n",
       "4   2018-06-30  0.713064      0.750   0.871       0.49\n",
       "5   2018-07-31  0.722702      0.752   0.989       0.14\n",
       "6   2018-08-31  0.805018      0.754   0.621       0.69\n",
       "7   2018-09-30  0.714300      0.759   0.601       0.57\n",
       "8   2018-10-31  0.727382      0.761   0.996       0.03\n",
       "9   2018-11-30  0.718479      0.833   0.008       0.99\n",
       "10  2018-12-31  0.643382      0.754   0.163       0.88"
      ]
     },
     "execution_count": 70,
     "metadata": {},
     "output_type": "execute_result"
    },
    {
     "data": {
      "image/png": "[encoded data removed]",
      "text/plain": [
       "<Figure size 432x288 with 1 Axes>"
      ]
     },
     "metadata": {
      "needs_background": "light"
     },
     "output_type": "display_data"
    }
   ],
   "source": [
    "features = [\n",
    "    'sell_price', 'net_imbalance_volume',\n",
    "    'price', 'hour', 'dayofweek', 'month'\n",
    "]\n",
    "results = run_evaluation(\n",
    "    dataset,\n",
    "    feature_columns=features,\n",
    "    target_column='forecast',\n",
    "    time_column='datetime'\n",
    ")\n",
    "results.set_index('eval_period')[['precision', 'recall', 'auc']].plot()\n",
    "results.mean()\n",
    "results"
   ]
  },
  {
   "cell_type": "code",
   "execution_count": null,
   "metadata": {},
   "outputs": [],
   "source": []
  }
 ],
 "metadata": {
  "kernelspec": {
   "display_name": "Python 3",
   "language": "python",
   "name": "python3"
  },
  "language_info": {
   "codemirror_mode": {
    "name": "ipython",
    "version": 3
   },
   "file_extension": ".py",
   "mimetype": "text/x-python",
   "name": "python",
   "nbconvert_exporter": "python",
   "pygments_lexer": "ipython3",
   "version": "3.7.4"
  }
 },
 "nbformat": 4,
 "nbformat_minor": 4
}
