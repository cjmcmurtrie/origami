{
 "cells": [
  {
   "cell_type": "code",
   "execution_count": 34,
   "metadata": {},
   "outputs": [],
   "source": [
    "import warnings\n",
    "import numpy as np\n",
    "import pandas as pd\n",
    "from sklearn.ensemble import RandomForestClassifier\n",
    "from origami.forecast import construct_target\n",
    "from origami.preprocess import merged_syst_n2ex\n",
    "from origami.features import add_seasonal_features, normalise_feature_values, impute_missing\n",
    "from origami.learn import get_scores, get_model, data_split\n",
    "warnings.filterwarnings('ignore')"
   ]
  },
  {
   "cell_type": "markdown",
   "metadata": {},
   "source": [
    "The following utility loads a joined DataFrame of system price/n2ex price.\n",
    "\n",
    "When I work on notebooks, I tend to use them as sketch pads for utility functions which I collect into structured codebases."
   ]
  },
  {
   "cell_type": "code",
   "execution_count": 35,
   "metadata": {},
   "outputs": [],
   "source": [
    "cleaned_data = merged_syst_n2ex(\n",
    "    syst_path='data/systems_prices.csv',\n",
    "    n2ex_path='data/n2ex_da_2018.csv'\n",
    ")"
   ]
  },
  {
   "cell_type": "markdown",
   "metadata": {},
   "source": [
    "The utility below calculates a target variable with the following logic applied to each horizon time-window:\n",
    "\n",
    "- if the price rose above the `positive_threshold` but did not fall below the negative, label `positive`\n",
    "- if the price fell below the `negative_threshold` but did not rise above the positive, label `negative`\n",
    "- if the price went past both thresholds, label `volatile`\n",
    "- if the price did not go past either threshold, label `stable`\n",
    "- otherwise label `unknown` (for nan cases in the data)\n",
    "\n",
    "In this case, the thresholds are of +/-30%, and the look-ahead horizon is 6 periods (3 hours)."
   ]
  },
  {
   "cell_type": "code",
   "execution_count": 36,
   "metadata": {},
   "outputs": [
    {
     "data": {
      "text/plain": [
       "<AxesSubplot:>"
      ]
     },
     "execution_count": 36,
     "metadata": {},
     "output_type": "execute_result"
    },
    {
     "data": {
      "image/png": "[encoded data removed]",
      "text/plain": [
       "<Figure size 432x288 with 1 Axes>"
      ]
     },
     "metadata": {
      "needs_background": "light"
     },
     "output_type": "display_data"
    }
   ],
   "source": [
    "with_target = construct_target(\n",
    "    cleaned_data,\n",
    "    time_col='datetime',\n",
    "    price_col='system_price',\n",
    "    horizon_periods=6,\n",
    "    positive_threshold=0.3,\n",
    "    negative_threshold=-0.3\n",
    ")\n",
    "with_target['forecast'].hist()"
   ]
  },
  {
   "cell_type": "markdown",
   "metadata": {},
   "source": [
    "The cells below add some simple seasonal features, normalise the data and impute missing values..."
   ]
  },
  {
   "cell_type": "code",
   "execution_count": 45,
   "metadata": {},
   "outputs": [],
   "source": [
    "with_features, feature_names = add_seasonal_features(with_target, 'datetime')"
   ]
  },
  {
   "cell_type": "code",
   "execution_count": 46,
   "metadata": {},
   "outputs": [],
   "source": [
    "features = ['system_price', 'n2ex_price', 'net_imbalance_volume', 'hour', 'dayofweek', 'month']\n",
    "normalised = normalise_feature_values(with_features, features)\n",
    "dataset = impute_missing(normalised, features)"
   ]
  },
  {
   "cell_type": "code",
   "execution_count": 47,
   "metadata": {},
   "outputs": [
    {
     "data": {
      "text/html": [
       "<div>\n",
       "<style scoped>\n",
       "    .dataframe tbody tr th:only-of-type {\n",
       "        vertical-align: middle;\n",
       "    }\n",
       "\n",
       "    .dataframe tbody tr th {\n",
       "        vertical-align: top;\n",
       "    }\n",
       "\n",
       "    .dataframe thead th {\n",
       "        text-align: right;\n",
       "    }\n",
       "</style>\n",
       "<table border=\"1\" class=\"dataframe\">\n",
       "  <thead>\n",
       "    <tr style=\"text-align: right;\">\n",
       "      <th></th>\n",
       "      <th>datetime</th>\n",
       "      <th>net_imbalance_volume</th>\n",
       "      <th>system_price</th>\n",
       "      <th>n2ex_price</th>\n",
       "      <th>forecast</th>\n",
       "      <th>date</th>\n",
       "      <th>hour</th>\n",
       "      <th>dayofweek</th>\n",
       "      <th>month</th>\n",
       "    </tr>\n",
       "  </thead>\n",
       "  <tbody>\n",
       "    <tr>\n",
       "      <th>0</th>\n",
       "      <td>2018-01-01 00:30:00</td>\n",
       "      <td>0.439344</td>\n",
       "      <td>0.180649</td>\n",
       "      <td>0.000000</td>\n",
       "      <td>negative</td>\n",
       "      <td>2018-01-01</td>\n",
       "      <td>0.000000</td>\n",
       "      <td>0.0</td>\n",
       "      <td>0.0</td>\n",
       "    </tr>\n",
       "    <tr>\n",
       "      <th>1</th>\n",
       "      <td>2018-01-01 01:00:00</td>\n",
       "      <td>0.469024</td>\n",
       "      <td>0.180649</td>\n",
       "      <td>0.208539</td>\n",
       "      <td>negative</td>\n",
       "      <td>2018-01-01</td>\n",
       "      <td>0.043478</td>\n",
       "      <td>0.0</td>\n",
       "      <td>0.0</td>\n",
       "    </tr>\n",
       "    <tr>\n",
       "      <th>2</th>\n",
       "      <td>2018-01-01 01:30:00</td>\n",
       "      <td>0.455782</td>\n",
       "      <td>0.186789</td>\n",
       "      <td>0.208539</td>\n",
       "      <td>negative</td>\n",
       "      <td>2018-01-01</td>\n",
       "      <td>0.043478</td>\n",
       "      <td>0.0</td>\n",
       "      <td>0.0</td>\n",
       "    </tr>\n",
       "    <tr>\n",
       "      <th>3</th>\n",
       "      <td>2018-01-01 02:00:00</td>\n",
       "      <td>0.397458</td>\n",
       "      <td>0.158772</td>\n",
       "      <td>0.249425</td>\n",
       "      <td>positive</td>\n",
       "      <td>2018-01-01</td>\n",
       "      <td>0.086957</td>\n",
       "      <td>0.0</td>\n",
       "      <td>0.0</td>\n",
       "    </tr>\n",
       "    <tr>\n",
       "      <th>4</th>\n",
       "      <td>2018-01-01 02:30:00</td>\n",
       "      <td>0.446756</td>\n",
       "      <td>0.184926</td>\n",
       "      <td>0.249425</td>\n",
       "      <td>stable</td>\n",
       "      <td>2018-01-01</td>\n",
       "      <td>0.086957</td>\n",
       "      <td>0.0</td>\n",
       "      <td>0.0</td>\n",
       "    </tr>\n",
       "  </tbody>\n",
       "</table>\n",
       "</div>"
      ],
      "text/plain": [
       "             datetime  net_imbalance_volume  system_price  n2ex_price  \\\n",
       "0 2018-01-01 00:30:00              0.439344      0.180649    0.000000   \n",
       "1 2018-01-01 01:00:00              0.469024      0.180649    0.208539   \n",
       "2 2018-01-01 01:30:00              0.455782      0.186789    0.208539   \n",
       "3 2018-01-01 02:00:00              0.397458      0.158772    0.249425   \n",
       "4 2018-01-01 02:30:00              0.446756      0.184926    0.249425   \n",
       "\n",
       "   forecast        date      hour  dayofweek  month  \n",
       "0  negative  2018-01-01  0.000000        0.0    0.0  \n",
       "1  negative  2018-01-01  0.043478        0.0    0.0  \n",
       "2  negative  2018-01-01  0.043478        0.0    0.0  \n",
       "3  positive  2018-01-01  0.086957        0.0    0.0  \n",
       "4    stable  2018-01-01  0.086957        0.0    0.0  "
      ]
     },
     "execution_count": 47,
     "metadata": {},
     "output_type": "execute_result"
    }
   ],
   "source": [
    "dataset.head()"
   ]
  },
  {
   "cell_type": "markdown",
   "metadata": {},
   "source": [
    "Now the learning evaluation procedure. I've done the following:\n",
    "\n",
    "- Separate each month (excluding January) as a test dataset\n",
    "- Treat all data before this test data as training data\n",
    "- Learn, evaluate, and move onto the next month for testing\n",
    "\n",
    "My reasoning is to have a simple backtesting procedure to see how the same pipeline on multiple re-fits. In reality, this isn't very realistic as you would probably re-fit models more than once a month (it is possible to change this setting with the `evaluation_time_window` parameter set to \"D\", but you'll need to fit a model for each day of the year!).\n",
    "\n",
    "In terms of scoring the model, I give three scores:\n",
    "\n",
    "- Macro-averaged AUC, which is a great baseline metric for the fundamental value of a classifier\n",
    "- Precision of positive class, fixed to be 0.7 or higher\n",
    "- Recall @ precision 0.7\n",
    "\n",
    "My reasoning is that it is more useful to be precise than comprehensive when forecasting prices. It is ok to have no opinion a lot of the time, so long as your opinion is fairly likely to be correct when you have one.\n",
    "\n",
    "The evaluator returns a DataFrame of results which I then plot and average for inspection."
   ]
  },
  {
   "cell_type": "code",
   "execution_count": 48,
   "metadata": {},
   "outputs": [],
   "source": [
    "def get_model():\n",
    "    '''\n",
    "    Just a simple model factory function, returning a balanced random forest classifier\n",
    "    :return: RandomForestClassifier\n",
    "    '''\n",
    "    return RandomForestClassifier(\n",
    "        n_estimators=200,\n",
    "        class_weight='balanced'\n",
    "    )\n",
    "\n",
    "\n",
    "def run_evaluation(\n",
    "        dataset, feature_columns, target_column,\n",
    "        time_column, evaluation_time_window='M', eval_start_time='2018-02-01',\n",
    "        eval_end_time=None\n",
    "):\n",
    "    '''\n",
    "    Training loop to back-test periods over a specific time window.\n",
    "    :param dataset: DataFrame\n",
    "    :param feature_columns: columns to treat as input features\n",
    "    :param target_column: column to treat as prediction target\n",
    "    :param time_column: time column\n",
    "    :param evaluation_time_window: periods to evaluate over, e.g. 'M' or 'D'\n",
    "    :param eval_start_time: where to start evaluating from\n",
    "    :return: DataFrame of results\n",
    "    '''\n",
    "    results = []\n",
    "    if eval_end_time is not None:\n",
    "        dataset = dataset[dataset[time_column] <= eval_end_time]\n",
    "    time_grouped = dataset \\\n",
    "        .set_index(time_column) \\\n",
    "        .groupby(pd.Grouper(freq=evaluation_time_window))\n",
    "    eval_start_time = pd.to_datetime(eval_start_time)\n",
    "    for test_period, test_data in time_grouped:\n",
    "        min_test_date = test_data.index.min()\n",
    "        if min_test_date >= eval_start_time:\n",
    "            print('evaluating test period', test_period)\n",
    "            train_data = dataset[dataset[time_column] < min_test_date]\n",
    "            train_x, train_y, test_x, test_y = data_split(\n",
    "                train_data,\n",
    "                test_data,\n",
    "                feature_columns=feature_columns,\n",
    "                target_column=target_column\n",
    "            )\n",
    "            model = get_model().fit(train_x, train_y)\n",
    "            probas = model.predict_proba(test_x)\n",
    "            auc, pos_precision, pos_recall, pos_threshold = get_scores(\n",
    "                probas,\n",
    "                test_y,\n",
    "                class_to_score='positive',\n",
    "                class_ix=1,\n",
    "                precision_threshold=0.7\n",
    "            )\n",
    "            results.append({\n",
    "                'eval_period': test_period,\n",
    "                'auc': auc,\n",
    "                'precision': pos_precision,\n",
    "                'recall': pos_recall,\n",
    "                'threshold': pos_threshold\n",
    "            })\n",
    "    return pd.DataFrame(results)\n"
   ]
  },
  {
   "cell_type": "code",
   "execution_count": 49,
   "metadata": {},
   "outputs": [
    {
     "name": "stdout",
     "output_type": "stream",
     "text": [
      "evaluating test period 2018-02-28 00:00:00\n",
      "evaluating test period 2018-03-31 00:00:00\n",
      "evaluating test period 2018-04-30 00:00:00\n",
      "evaluating test period 2018-05-31 00:00:00\n",
      "evaluating test period 2018-06-30 00:00:00\n",
      "evaluating test period 2018-07-31 00:00:00\n",
      "evaluating test period 2018-08-31 00:00:00\n",
      "evaluating test period 2018-09-30 00:00:00\n",
      "evaluating test period 2018-10-31 00:00:00\n",
      "evaluating test period 2018-11-30 00:00:00\n",
      "evaluating test period 2018-12-31 00:00:00\n",
      "Mean results: auc          0.714813\n",
      "precision    0.703455\n",
      "recall       0.371000\n",
      "threshold    0.670455\n",
      "dtype: float64\n"
     ]
    },
    {
     "data": {
      "text/html": [
       "<div>\n",
       "<style scoped>\n",
       "    .dataframe tbody tr th:only-of-type {\n",
       "        vertical-align: middle;\n",
       "    }\n",
       "\n",
       "    .dataframe tbody tr th {\n",
       "        vertical-align: top;\n",
       "    }\n",
       "\n",
       "    .dataframe thead th {\n",
       "        text-align: right;\n",
       "    }\n",
       "</style>\n",
       "<table border=\"1\" class=\"dataframe\">\n",
       "  <thead>\n",
       "    <tr style=\"text-align: right;\">\n",
       "      <th></th>\n",
       "      <th>eval_period</th>\n",
       "      <th>auc</th>\n",
       "      <th>precision</th>\n",
       "      <th>recall</th>\n",
       "      <th>threshold</th>\n",
       "    </tr>\n",
       "  </thead>\n",
       "  <tbody>\n",
       "    <tr>\n",
       "      <th>0</th>\n",
       "      <td>2018-02-28</td>\n",
       "      <td>0.707378</td>\n",
       "      <td>0.704</td>\n",
       "      <td>0.309</td>\n",
       "      <td>0.685</td>\n",
       "    </tr>\n",
       "    <tr>\n",
       "      <th>1</th>\n",
       "      <td>2018-03-31</td>\n",
       "      <td>0.694298</td>\n",
       "      <td>0.702</td>\n",
       "      <td>0.353</td>\n",
       "      <td>0.650</td>\n",
       "    </tr>\n",
       "    <tr>\n",
       "      <th>2</th>\n",
       "      <td>2018-04-30</td>\n",
       "      <td>0.687720</td>\n",
       "      <td>0.702</td>\n",
       "      <td>0.216</td>\n",
       "      <td>0.760</td>\n",
       "    </tr>\n",
       "    <tr>\n",
       "      <th>3</th>\n",
       "      <td>2018-05-31</td>\n",
       "      <td>0.707704</td>\n",
       "      <td>0.724</td>\n",
       "      <td>0.093</td>\n",
       "      <td>0.800</td>\n",
       "    </tr>\n",
       "    <tr>\n",
       "      <th>4</th>\n",
       "      <td>2018-06-30</td>\n",
       "      <td>0.707474</td>\n",
       "      <td>0.701</td>\n",
       "      <td>0.428</td>\n",
       "      <td>0.660</td>\n",
       "    </tr>\n",
       "    <tr>\n",
       "      <th>5</th>\n",
       "      <td>2018-07-31</td>\n",
       "      <td>0.733319</td>\n",
       "      <td>0.700</td>\n",
       "      <td>0.826</td>\n",
       "      <td>0.455</td>\n",
       "    </tr>\n",
       "    <tr>\n",
       "      <th>6</th>\n",
       "      <td>2018-08-31</td>\n",
       "      <td>0.712276</td>\n",
       "      <td>0.701</td>\n",
       "      <td>0.370</td>\n",
       "      <td>0.680</td>\n",
       "    </tr>\n",
       "    <tr>\n",
       "      <th>7</th>\n",
       "      <td>2018-09-30</td>\n",
       "      <td>0.749477</td>\n",
       "      <td>0.700</td>\n",
       "      <td>0.643</td>\n",
       "      <td>0.510</td>\n",
       "    </tr>\n",
       "    <tr>\n",
       "      <th>8</th>\n",
       "      <td>2018-10-31</td>\n",
       "      <td>0.727817</td>\n",
       "      <td>0.702</td>\n",
       "      <td>0.262</td>\n",
       "      <td>0.705</td>\n",
       "    </tr>\n",
       "    <tr>\n",
       "      <th>9</th>\n",
       "      <td>2018-11-30</td>\n",
       "      <td>0.720698</td>\n",
       "      <td>0.701</td>\n",
       "      <td>0.228</td>\n",
       "      <td>0.800</td>\n",
       "    </tr>\n",
       "    <tr>\n",
       "      <th>10</th>\n",
       "      <td>2018-12-31</td>\n",
       "      <td>0.714785</td>\n",
       "      <td>0.701</td>\n",
       "      <td>0.353</td>\n",
       "      <td>0.670</td>\n",
       "    </tr>\n",
       "  </tbody>\n",
       "</table>\n",
       "</div>"
      ],
      "text/plain": [
       "   eval_period       auc  precision  recall  threshold\n",
       "0   2018-02-28  0.707378      0.704   0.309      0.685\n",
       "1   2018-03-31  0.694298      0.702   0.353      0.650\n",
       "2   2018-04-30  0.687720      0.702   0.216      0.760\n",
       "3   2018-05-31  0.707704      0.724   0.093      0.800\n",
       "4   2018-06-30  0.707474      0.701   0.428      0.660\n",
       "5   2018-07-31  0.733319      0.700   0.826      0.455\n",
       "6   2018-08-31  0.712276      0.701   0.370      0.680\n",
       "7   2018-09-30  0.749477      0.700   0.643      0.510\n",
       "8   2018-10-31  0.727817      0.702   0.262      0.705\n",
       "9   2018-11-30  0.720698      0.701   0.228      0.800\n",
       "10  2018-12-31  0.714785      0.701   0.353      0.670"
      ]
     },
     "execution_count": 49,
     "metadata": {},
     "output_type": "execute_result"
    },
    {
     "data": {
      "image/png": "[encoded data removed]",
      "text/plain": [
       "<Figure size 432x288 with 1 Axes>"
      ]
     },
     "metadata": {
      "needs_background": "light"
     },
     "output_type": "display_data"
    }
   ],
   "source": [
    "features = [\n",
    "    'system_price', 'n2ex_price', 'net_imbalance_volume',\n",
    "    'hour', 'dayofweek', 'month'\n",
    "]\n",
    "results = run_evaluation(\n",
    "    dataset,\n",
    "    feature_columns=features,\n",
    "    target_column='forecast',\n",
    "    time_column='datetime',\n",
    "    evaluation_time_window='M',\n",
    "    eval_end_time='2019-01-01'\n",
    ")\n",
    "results.set_index('eval_period')[['precision', 'recall', 'auc']].plot()\n",
    "print('Mean results:', results.mean())\n",
    "results"
   ]
  },
  {
   "cell_type": "markdown",
   "metadata": {},
   "source": [
    "Although precision of 0.7 in a market price context sounds very good, I'm not sure this is particularly meaningful. On a horizon of 3 hours, you are probably likely to be correct for a good portion of the time just by knowing what time of day it is. It is probably more interesting to look at longer-term forecasts but more sophisticated modelling would be needed for that.\n",
    "\n",
    "I would look next at time-series feature extraction for this. I did run some experimental time-series features using the `tsfresh` library, but didn't have time to develop it further."
   ]
  },
  {
   "cell_type": "code",
   "execution_count": null,
   "metadata": {},
   "outputs": [],
   "source": []
  }
 ],
 "metadata": {
  "kernelspec": {
   "display_name": "Python 3",
   "language": "python",
   "name": "python3"
  },
  "language_info": {
   "codemirror_mode": {
    "name": "ipython",
    "version": 3
   },
   "file_extension": ".py",
   "mimetype": "text/x-python",
   "name": "python",
   "nbconvert_exporter": "python",
   "pygments_lexer": "ipython3",
   "version": "3.7.4"
  }
 },
 "nbformat": 4,
 "nbformat_minor": 4
}
